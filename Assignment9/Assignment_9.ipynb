{
  "nbformat": 4,
  "nbformat_minor": 0,
  "metadata": {
    "colab": {
      "provenance": [],
      "gpuType": "T4"
    },
    "kernelspec": {
      "name": "python3",
      "display_name": "Python 3"
    },
    "accelerator": "GPU"
  },
  "cells": [
    {
      "cell_type": "code",
      "metadata": {
        "id": "0m2JWFliFfKT"
      },
      "source": [
        "from __future__ import print_function\n",
        "import torch\n",
        "import torch.nn.functional as F\n",
        "import torch.optim as optim\n",
        "from torchvision import datasets, transforms\n",
        "import matplotlib.pyplot as plt\n",
        "from torchsummary import summary\n",
        "import numpy as np\n",
        "\n"
      ],
      "execution_count": 1,
      "outputs": []
    },
    {
      "cell_type": "code",
      "source": [
        "from model import Net\n",
        "from util import Cifar10Dataset, args, train_transforms, test_transforms"
      ],
      "metadata": {
        "id": "qU3nc4HUr_W9"
      },
      "execution_count": 2,
      "outputs": []
    },
    {
      "cell_type": "code",
      "source": [
        "import warnings\n",
        "warnings.filterwarnings(\"ignore\")"
      ],
      "metadata": {
        "id": "XKHDSM912sEh"
      },
      "execution_count": 3,
      "outputs": []
    },
    {
      "cell_type": "code",
      "source": [
        "!pip install torchsummary"
      ],
      "metadata": {
        "colab": {
          "base_uri": "https://localhost:8080/"
        },
        "id": "BUMMxcU-Zy9D",
        "outputId": "c3d471d4-7810-4233-b029-0a66f611dbe6"
      },
      "execution_count": 4,
      "outputs": [
        {
          "output_type": "stream",
          "name": "stdout",
          "text": [
            "Requirement already satisfied: torchsummary in /usr/local/lib/python3.10/dist-packages (1.5.1)\n"
          ]
        }
      ]
    },
    {
      "cell_type": "code",
      "metadata": {
        "id": "xdydjYTZFyi3",
        "colab": {
          "base_uri": "https://localhost:8080/"
        },
        "outputId": "34576404-2d7a-4e69-ed1a-1004aa64bc07"
      },
      "source": [
        "use_cuda = torch.cuda.is_available()\n",
        "device = torch.device(\"cuda\" if use_cuda else \"cpu\")\n",
        "model = Net().to(device)\n",
        "summary(model, input_size=(3, 32, 32))"
      ],
      "execution_count": 5,
      "outputs": [
        {
          "output_type": "stream",
          "name": "stdout",
          "text": [
            "----------------------------------------------------------------\n",
            "        Layer (type)               Output Shape         Param #\n",
            "================================================================\n",
            "            Conv2d-1           [-1, 32, 32, 32]             864\n",
            "       BatchNorm2d-2           [-1, 32, 32, 32]              64\n",
            "              ReLU-3           [-1, 32, 32, 32]               0\n",
            "           Dropout-4           [-1, 32, 32, 32]               0\n",
            "            Conv2d-5           [-1, 32, 32, 32]           9,216\n",
            "       BatchNorm2d-6           [-1, 32, 32, 32]              64\n",
            "              ReLU-7           [-1, 32, 32, 32]               0\n",
            "           Dropout-8           [-1, 32, 32, 32]               0\n",
            "            Conv2d-9           [-1, 32, 16, 16]           9,216\n",
            "      BatchNorm2d-10           [-1, 32, 16, 16]              64\n",
            "             ReLU-11           [-1, 32, 16, 16]               0\n",
            "          Dropout-12           [-1, 32, 16, 16]               0\n",
            "           Conv2d-13           [-1, 32, 16, 16]           9,216\n",
            "      BatchNorm2d-14           [-1, 32, 16, 16]              64\n",
            "             ReLU-15           [-1, 32, 16, 16]               0\n",
            "          Dropout-16           [-1, 32, 16, 16]               0\n",
            "           Conv2d-17           [-1, 32, 16, 16]           9,216\n",
            "      BatchNorm2d-18           [-1, 32, 16, 16]              64\n",
            "             ReLU-19           [-1, 32, 16, 16]               0\n",
            "          Dropout-20           [-1, 32, 16, 16]               0\n",
            "           Conv2d-21           [-1, 64, 14, 14]          18,432\n",
            "      BatchNorm2d-22           [-1, 64, 14, 14]             128\n",
            "             ReLU-23           [-1, 64, 14, 14]               0\n",
            "          Dropout-24           [-1, 64, 14, 14]               0\n",
            "           Conv2d-25             [-1, 64, 7, 7]          36,864\n",
            "      BatchNorm2d-26             [-1, 64, 7, 7]             128\n",
            "             ReLU-27             [-1, 64, 7, 7]               0\n",
            "          Dropout-28             [-1, 64, 7, 7]               0\n",
            "           Conv2d-29            [-1, 128, 7, 7]           1,152\n",
            "      BatchNorm2d-30            [-1, 128, 7, 7]             256\n",
            "             ReLU-31            [-1, 128, 7, 7]               0\n",
            "          Dropout-32            [-1, 128, 7, 7]               0\n",
            "           Conv2d-33            [-1, 256, 7, 7]           2,304\n",
            "      BatchNorm2d-34            [-1, 256, 7, 7]             512\n",
            "             ReLU-35            [-1, 256, 7, 7]               0\n",
            "          Dropout-36            [-1, 256, 7, 7]               0\n",
            "           Conv2d-37            [-1, 256, 7, 7]           2,304\n",
            "      BatchNorm2d-38            [-1, 256, 7, 7]             512\n",
            "             ReLU-39            [-1, 256, 7, 7]               0\n",
            "          Dropout-40            [-1, 256, 7, 7]               0\n",
            "           Conv2d-41            [-1, 256, 7, 7]           2,304\n",
            "      BatchNorm2d-42            [-1, 256, 7, 7]             512\n",
            "             ReLU-43            [-1, 256, 7, 7]               0\n",
            "          Dropout-44            [-1, 256, 7, 7]               0\n",
            "           Conv2d-45            [-1, 256, 7, 7]           2,304\n",
            "      BatchNorm2d-46            [-1, 256, 7, 7]             512\n",
            "             ReLU-47            [-1, 256, 7, 7]               0\n",
            "          Dropout-48            [-1, 256, 7, 7]               0\n",
            "           Conv2d-49            [-1, 256, 7, 7]           2,304\n",
            "      BatchNorm2d-50            [-1, 256, 7, 7]             512\n",
            "             ReLU-51            [-1, 256, 7, 7]               0\n",
            "          Dropout-52            [-1, 256, 7, 7]               0\n",
            "           Conv2d-53            [-1, 256, 7, 7]           2,304\n",
            "      BatchNorm2d-54            [-1, 256, 7, 7]             512\n",
            "             ReLU-55            [-1, 256, 7, 7]               0\n",
            "          Dropout-56            [-1, 256, 7, 7]               0\n",
            "           Conv2d-57            [-1, 256, 7, 7]           2,304\n",
            "           Conv2d-58             [-1, 32, 7, 7]          73,728\n",
            "        AvgPool2d-59             [-1, 32, 1, 1]               0\n",
            "           Conv2d-60             [-1, 10, 1, 1]             320\n",
            "================================================================\n",
            "Total params: 188,256\n",
            "Trainable params: 188,256\n",
            "Non-trainable params: 0\n",
            "----------------------------------------------------------------\n",
            "Input size (MB): 0.01\n",
            "Forward/backward pass size (MB): 5.82\n",
            "Params size (MB): 0.72\n",
            "Estimated Total Size (MB): 6.55\n",
            "----------------------------------------------------------------\n"
          ]
        }
      ]
    },
    {
      "cell_type": "code",
      "metadata": {
        "id": "DqTWLaM5GHgH",
        "colab": {
          "base_uri": "https://localhost:8080/"
        },
        "outputId": "33c7b92c-787b-4673-dbc4-fd2c86c2b383"
      },
      "source": [
        "trainset = Cifar10Dataset(root='./data', train=True, download=True, transform=train_transforms)\n",
        "testset = Cifar10Dataset(root='./data', train=False, download=True, transform=test_transforms)\n",
        "\n",
        "train_loader = torch.utils.data.DataLoader(trainset, batch_size=args().batch_size,\n",
        "                                          shuffle=True, **args().kwargs)\n",
        "\n",
        "test_loader = torch.utils.data.DataLoader(testset, batch_size=args().batch_size,\n",
        "                                          shuffle=True, **args().kwargs)\n",
        "\n",
        "classes = ('plane', 'car', 'bird', 'cat', 'deer', 'dog', 'frog', 'horse', 'ship', 'truck')"
      ],
      "execution_count": 6,
      "outputs": [
        {
          "output_type": "stream",
          "name": "stdout",
          "text": [
            "Files already downloaded and verified\n",
            "Files already downloaded and verified\n"
          ]
        }
      ]
    },
    {
      "cell_type": "code",
      "source": [
        "from tqdm import tqdm\n",
        "\n",
        "train_losses = []\n",
        "test_losses = []\n",
        "train_acc = []\n",
        "test_acc = []\n",
        "\n",
        "def train(model, device, train_loader, optimizer):\n",
        "  model.train()\n",
        "  pbar = tqdm(train_loader)\n",
        "  correct = 0\n",
        "  processed = 0\n",
        "  for batch_idx, (data, target) in enumerate(pbar):\n",
        "    # get samples\n",
        "    data, target = data.to(device), target.to(device)\n",
        "\n",
        "    # Init\n",
        "    optimizer.zero_grad()\n",
        "    # In PyTorch, we need to set the gradients to zero before starting to do backpropragation because PyTorch accumulates the gradients on subsequent backward passes.\n",
        "    # Because of this, when you start your training loop, ideally you should zero out the gradients so that you do the parameter update correctly.\n",
        "\n",
        "    # Predict\n",
        "    y_pred = model(data)\n",
        "\n",
        "    # Calculate loss\n",
        "    loss = F.nll_loss(y_pred, target)\n",
        "    train_losses.append(loss)\n",
        "\n",
        "    # Backpropagation\n",
        "    loss.backward()\n",
        "    optimizer.step()\n",
        "\n",
        "    # Update pbar-tqdm\n",
        "\n",
        "    pred = y_pred.argmax(dim=1, keepdim=True)  # get the index of the max log-probability\n",
        "    correct += pred.eq(target.view_as(pred)).sum().item()\n",
        "    processed += len(data)\n",
        "\n",
        "    pbar.set_description(desc= f'Loss={loss.item()} Batch_id={batch_idx} Accuracy={100*correct/processed:0.2f}')\n",
        "    train_acc.append(100*correct/processed)\n",
        "\n",
        "def test(model, device, test_loader):\n",
        "    model.eval()\n",
        "    test_loss = 0\n",
        "    correct = 0\n",
        "    with torch.no_grad():\n",
        "        for data, target in test_loader:\n",
        "            data, target = data.to(device), target.to(device)\n",
        "            output = model(data)\n",
        "            test_loss += F.nll_loss(output, target, reduction='sum').item()  # sum up batch loss\n",
        "            pred = output.argmax(dim=1, keepdim=True)  # get the index of the max log-probability\n",
        "            correct += pred.eq(target.view_as(pred)).sum().item()\n",
        "\n",
        "    test_loss /= len(test_loader.dataset)\n",
        "    test_losses.append(test_loss)\n",
        "\n",
        "    print('\\nTest set: Average loss: {:.4f}, Accuracy: {}/{} ({:.2f}%)\\n'.format(\n",
        "        test_loss, correct, len(test_loader.dataset),\n",
        "        100. * correct / len(test_loader.dataset)))\n",
        "\n",
        "    test_acc.append(100. * correct / len(test_loader.dataset))"
      ],
      "metadata": {
        "id": "S2RwDj_TIubZ"
      },
      "execution_count": 7,
      "outputs": []
    },
    {
      "cell_type": "code",
      "metadata": {
        "id": "MMWbLWO6FuHb",
        "colab": {
          "base_uri": "https://localhost:8080/"
        },
        "outputId": "eca81d7c-5378-4ec6-857f-17240626845c"
      },
      "source": [
        "optimizer = optim.SGD(model.parameters(), lr=0.2, momentum=0.90)\n",
        "scheduler = optim.lr_scheduler.StepLR(optimizer, step_size=4, gamma=0.1)\n",
        "\n",
        "num_epochs = 20\n",
        "\n",
        "for epoch in range(1, num_epochs+1):\n",
        "  print(f'Epoch {epoch}')\n",
        "  train(model, device, train_loader, optimizer)\n",
        "  test(model, device, test_loader)\n",
        "  scheduler.step()"
      ],
      "execution_count": 8,
      "outputs": [
        {
          "output_type": "stream",
          "name": "stdout",
          "text": [
            "Epoch 1\n"
          ]
        },
        {
          "output_type": "stream",
          "name": "stderr",
          "text": [
            "Loss=1.74130117893219 Batch_id=390 Accuracy=28.16: 100%|██████████| 391/391 [00:26<00:00, 14.54it/s]\n"
          ]
        },
        {
          "output_type": "stream",
          "name": "stdout",
          "text": [
            "\n",
            "Test set: Average loss: 1.6295, Accuracy: 4029/10000 (40.29%)\n",
            "\n",
            "Epoch 2\n"
          ]
        },
        {
          "output_type": "stream",
          "name": "stderr",
          "text": [
            "Loss=1.3856773376464844 Batch_id=390 Accuracy=38.74: 100%|██████████| 391/391 [00:23<00:00, 17.00it/s]\n"
          ]
        },
        {
          "output_type": "stream",
          "name": "stdout",
          "text": [
            "\n",
            "Test set: Average loss: 1.5085, Accuracy: 4561/10000 (45.61%)\n",
            "\n",
            "Epoch 3\n"
          ]
        },
        {
          "output_type": "stream",
          "name": "stderr",
          "text": [
            "Loss=1.296478509902954 Batch_id=390 Accuracy=44.56: 100%|██████████| 391/391 [00:22<00:00, 17.77it/s]\n"
          ]
        },
        {
          "output_type": "stream",
          "name": "stdout",
          "text": [
            "\n",
            "Test set: Average loss: 1.4279, Accuracy: 4915/10000 (49.15%)\n",
            "\n",
            "Epoch 4\n"
          ]
        },
        {
          "output_type": "stream",
          "name": "stderr",
          "text": [
            "Loss=1.2678978443145752 Batch_id=390 Accuracy=48.21: 100%|██████████| 391/391 [00:21<00:00, 18.20it/s]\n"
          ]
        },
        {
          "output_type": "stream",
          "name": "stdout",
          "text": [
            "\n",
            "Test set: Average loss: 1.1787, Accuracy: 5807/10000 (58.07%)\n",
            "\n",
            "Epoch 5\n"
          ]
        },
        {
          "output_type": "stream",
          "name": "stderr",
          "text": [
            "Loss=1.2743709087371826 Batch_id=390 Accuracy=54.90: 100%|██████████| 391/391 [00:21<00:00, 17.82it/s]\n"
          ]
        },
        {
          "output_type": "stream",
          "name": "stdout",
          "text": [
            "\n",
            "Test set: Average loss: 1.0829, Accuracy: 6292/10000 (62.92%)\n",
            "\n",
            "Epoch 6\n"
          ]
        },
        {
          "output_type": "stream",
          "name": "stderr",
          "text": [
            "Loss=1.3151721954345703 Batch_id=390 Accuracy=56.05: 100%|██████████| 391/391 [00:22<00:00, 17.70it/s]\n"
          ]
        },
        {
          "output_type": "stream",
          "name": "stdout",
          "text": [
            "\n",
            "Test set: Average loss: 1.0441, Accuracy: 6403/10000 (64.03%)\n",
            "\n",
            "Epoch 7\n"
          ]
        },
        {
          "output_type": "stream",
          "name": "stderr",
          "text": [
            "Loss=1.277121663093567 Batch_id=390 Accuracy=56.98: 100%|██████████| 391/391 [00:21<00:00, 18.14it/s]\n"
          ]
        },
        {
          "output_type": "stream",
          "name": "stdout",
          "text": [
            "\n",
            "Test set: Average loss: 1.0266, Accuracy: 6473/10000 (64.73%)\n",
            "\n",
            "Epoch 8\n"
          ]
        },
        {
          "output_type": "stream",
          "name": "stderr",
          "text": [
            "Loss=1.3647741079330444 Batch_id=390 Accuracy=57.45: 100%|██████████| 391/391 [00:21<00:00, 18.01it/s]\n"
          ]
        },
        {
          "output_type": "stream",
          "name": "stdout",
          "text": [
            "\n",
            "Test set: Average loss: 0.9936, Accuracy: 6572/10000 (65.72%)\n",
            "\n",
            "Epoch 9\n"
          ]
        },
        {
          "output_type": "stream",
          "name": "stderr",
          "text": [
            "Loss=1.002092719078064 Batch_id=390 Accuracy=58.63: 100%|██████████| 391/391 [00:21<00:00, 18.21it/s]\n"
          ]
        },
        {
          "output_type": "stream",
          "name": "stdout",
          "text": [
            "\n",
            "Test set: Average loss: 0.9923, Accuracy: 6597/10000 (65.97%)\n",
            "\n",
            "Epoch 10\n"
          ]
        },
        {
          "output_type": "stream",
          "name": "stderr",
          "text": [
            "Loss=1.0797250270843506 Batch_id=390 Accuracy=58.61: 100%|██████████| 391/391 [00:21<00:00, 18.33it/s]\n"
          ]
        },
        {
          "output_type": "stream",
          "name": "stdout",
          "text": [
            "\n",
            "Test set: Average loss: 0.9852, Accuracy: 6617/10000 (66.17%)\n",
            "\n",
            "Epoch 11\n"
          ]
        },
        {
          "output_type": "stream",
          "name": "stderr",
          "text": [
            "Loss=1.337937593460083 Batch_id=390 Accuracy=58.88: 100%|██████████| 391/391 [00:22<00:00, 17.76it/s]\n"
          ]
        },
        {
          "output_type": "stream",
          "name": "stdout",
          "text": [
            "\n",
            "Test set: Average loss: 0.9773, Accuracy: 6632/10000 (66.32%)\n",
            "\n",
            "Epoch 12\n"
          ]
        },
        {
          "output_type": "stream",
          "name": "stderr",
          "text": [
            "Loss=1.0219091176986694 Batch_id=390 Accuracy=58.94: 100%|██████████| 391/391 [00:22<00:00, 17.71it/s]\n"
          ]
        },
        {
          "output_type": "stream",
          "name": "stdout",
          "text": [
            "\n",
            "Test set: Average loss: 0.9865, Accuracy: 6589/10000 (65.89%)\n",
            "\n",
            "Epoch 13\n"
          ]
        },
        {
          "output_type": "stream",
          "name": "stderr",
          "text": [
            "Loss=1.4873359203338623 Batch_id=390 Accuracy=59.01: 100%|██████████| 391/391 [00:22<00:00, 17.46it/s]\n"
          ]
        },
        {
          "output_type": "stream",
          "name": "stdout",
          "text": [
            "\n",
            "Test set: Average loss: 0.9771, Accuracy: 6632/10000 (66.32%)\n",
            "\n",
            "Epoch 14\n"
          ]
        },
        {
          "output_type": "stream",
          "name": "stderr",
          "text": [
            "Loss=1.1328552961349487 Batch_id=390 Accuracy=59.12: 100%|██████████| 391/391 [00:22<00:00, 17.55it/s]\n"
          ]
        },
        {
          "output_type": "stream",
          "name": "stdout",
          "text": [
            "\n",
            "Test set: Average loss: 0.9788, Accuracy: 6633/10000 (66.33%)\n",
            "\n",
            "Epoch 15\n"
          ]
        },
        {
          "output_type": "stream",
          "name": "stderr",
          "text": [
            "Loss=1.1250743865966797 Batch_id=390 Accuracy=59.26: 100%|██████████| 391/391 [00:22<00:00, 17.76it/s]\n"
          ]
        },
        {
          "output_type": "stream",
          "name": "stdout",
          "text": [
            "\n",
            "Test set: Average loss: 0.9799, Accuracy: 6651/10000 (66.51%)\n",
            "\n",
            "Epoch 16\n"
          ]
        },
        {
          "output_type": "stream",
          "name": "stderr",
          "text": [
            "Loss=1.1230074167251587 Batch_id=390 Accuracy=59.38: 100%|██████████| 391/391 [00:21<00:00, 17.85it/s]\n"
          ]
        },
        {
          "output_type": "stream",
          "name": "stdout",
          "text": [
            "\n",
            "Test set: Average loss: 0.9821, Accuracy: 6633/10000 (66.33%)\n",
            "\n",
            "Epoch 17\n"
          ]
        },
        {
          "output_type": "stream",
          "name": "stderr",
          "text": [
            "Loss=1.2652568817138672 Batch_id=390 Accuracy=58.93: 100%|██████████| 391/391 [00:22<00:00, 17.28it/s]\n"
          ]
        },
        {
          "output_type": "stream",
          "name": "stdout",
          "text": [
            "\n",
            "Test set: Average loss: 0.9806, Accuracy: 6618/10000 (66.18%)\n",
            "\n",
            "Epoch 18\n"
          ]
        },
        {
          "output_type": "stream",
          "name": "stderr",
          "text": [
            "Loss=1.0994515419006348 Batch_id=390 Accuracy=59.12: 100%|██████████| 391/391 [00:21<00:00, 18.18it/s]\n"
          ]
        },
        {
          "output_type": "stream",
          "name": "stdout",
          "text": [
            "\n",
            "Test set: Average loss: 0.9780, Accuracy: 6628/10000 (66.28%)\n",
            "\n",
            "Epoch 19\n"
          ]
        },
        {
          "output_type": "stream",
          "name": "stderr",
          "text": [
            "Loss=1.2669572830200195 Batch_id=390 Accuracy=59.18: 100%|██████████| 391/391 [00:21<00:00, 18.20it/s]\n"
          ]
        },
        {
          "output_type": "stream",
          "name": "stdout",
          "text": [
            "\n",
            "Test set: Average loss: 0.9801, Accuracy: 6622/10000 (66.22%)\n",
            "\n",
            "Epoch 20\n"
          ]
        },
        {
          "output_type": "stream",
          "name": "stderr",
          "text": [
            "Loss=1.1005998849868774 Batch_id=390 Accuracy=59.29: 100%|██████████| 391/391 [00:21<00:00, 18.18it/s]\n"
          ]
        },
        {
          "output_type": "stream",
          "name": "stdout",
          "text": [
            "\n",
            "Test set: Average loss: 0.9791, Accuracy: 6624/10000 (66.24%)\n",
            "\n"
          ]
        }
      ]
    },
    {
      "cell_type": "code",
      "source": [
        "fig, axs = plt.subplots(2,2,figsize=(15,10))\n",
        "axs[0, 0].plot(torch.tensor(train_losses).cpu().detach().numpy())\n",
        "axs[0, 0].set_title(\"Training Loss\")\n",
        "axs[1, 0].plot(train_acc)\n",
        "axs[1, 0].set_title(\"Training Accuracy\")\n",
        "axs[0, 1].plot(test_losses)\n",
        "axs[0, 1].set_title(\"Test Loss\")\n",
        "axs[1, 1].plot(test_acc)\n",
        "axs[1, 1].set_title(\"Test Accuracy\")"
      ],
      "metadata": {
        "id": "0sHKCQF6M3ek",
        "colab": {
          "base_uri": "https://localhost:8080/",
          "height": 624
        },
        "outputId": "e2eeb43a-f71d-4dc6-946c-2adb98f5c20f"
      },
      "execution_count": 9,
      "outputs": [
        {
          "output_type": "execute_result",
          "data": {
            "text/plain": [
              "Text(0.5, 1.0, 'Test Accuracy')"
            ]
          },
          "metadata": {},
          "execution_count": 9
        },
        {
          "output_type": "display_data",
          "data": {
            "text/plain": [
              "<Figure size 1500x1000 with 4 Axes>"
            ],
            "image/png": "[encoded data removed]"
          },
          "metadata": {}
        }
      ]
    }
  ]
}